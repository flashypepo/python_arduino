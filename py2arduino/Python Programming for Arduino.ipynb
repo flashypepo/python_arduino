{
 "cells": [
  {
   "cell_type": "code",
   "execution_count": 5,
   "metadata": {
    "collapsed": false
   },
   "outputs": [
    {
     "name": "stdout",
     "output_type": "stream",
     "text": [
      "\n",
      "Python Version 3.4.4 |Anaconda 2.2.0 (x86_64)| (default, Jan  9 2016, 17:30:09) \n",
      "[GCC 4.2.1 (Apple Inc. build 5577)]\n",
      "\n",
      "PyMata version 2.12  Copyright(C) 2013-16 Alan Yorinks    All rights reserved.\n"
     ]
    },
    {
     "ename": "SerialException",
     "evalue": "[Errno 2] could not open port usbmodem1A1221: [Errno 2] No such file or directory: 'usbmodem1A1221'",
     "output_type": "error",
     "traceback": [
      "\u001b[0;31m---------------------------------------------------------------------------\u001b[0m",
      "\u001b[0;31mFileNotFoundError\u001b[0m                         Traceback (most recent call last)",
      "\u001b[0;32m/Applications/anaconda/lib/python3.4/site-packages/serial/serialposix.py\u001b[0m in \u001b[0;36mopen\u001b[0;34m(self)\u001b[0m\n\u001b[1;32m    290\u001b[0m         \u001b[0;32mtry\u001b[0m\u001b[0;34m:\u001b[0m\u001b[0;34m\u001b[0m\u001b[0m\n\u001b[0;32m--> 291\u001b[0;31m             \u001b[0mself\u001b[0m\u001b[0;34m.\u001b[0m\u001b[0mfd\u001b[0m \u001b[0;34m=\u001b[0m \u001b[0mos\u001b[0m\u001b[0;34m.\u001b[0m\u001b[0mopen\u001b[0m\u001b[0;34m(\u001b[0m\u001b[0mself\u001b[0m\u001b[0;34m.\u001b[0m\u001b[0mportstr\u001b[0m\u001b[0;34m,\u001b[0m \u001b[0mos\u001b[0m\u001b[0;34m.\u001b[0m\u001b[0mO_RDWR\u001b[0m \u001b[0;34m|\u001b[0m \u001b[0mos\u001b[0m\u001b[0;34m.\u001b[0m\u001b[0mO_NOCTTY\u001b[0m \u001b[0;34m|\u001b[0m \u001b[0mos\u001b[0m\u001b[0;34m.\u001b[0m\u001b[0mO_NONBLOCK\u001b[0m\u001b[0;34m)\u001b[0m\u001b[0;34m\u001b[0m\u001b[0m\n\u001b[0m\u001b[1;32m    292\u001b[0m         \u001b[0;32mexcept\u001b[0m \u001b[0mOSError\u001b[0m \u001b[0;32mas\u001b[0m \u001b[0mmsg\u001b[0m\u001b[0;34m:\u001b[0m\u001b[0;34m\u001b[0m\u001b[0m\n",
      "\u001b[0;31mFileNotFoundError\u001b[0m: [Errno 2] No such file or directory: 'usbmodem1A1221'",
      "\nDuring handling of the above exception, another exception occurred:\n",
      "\u001b[0;31mSerialException\u001b[0m                           Traceback (most recent call last)",
      "\u001b[0;32m<ipython-input-5-51a12d44dd53>\u001b[0m in \u001b[0;36m<module>\u001b[0;34m()\u001b[0m\n\u001b[1;32m      6\u001b[0m \u001b[0;34m\u001b[0m\u001b[0m\n\u001b[1;32m      7\u001b[0m \u001b[0;31m#port = PyMata(\"cu.usbmodem1A1221\") #error FileNotFoundError\u001b[0m\u001b[0;34m\u001b[0m\u001b[0;34m\u001b[0m\u001b[0m\n\u001b[0;32m----> 8\u001b[0;31m \u001b[0mport\u001b[0m \u001b[0;34m=\u001b[0m \u001b[0mPyMata\u001b[0m\u001b[0;34m(\u001b[0m\u001b[0;34m\"usbmodem1A1221\"\u001b[0m\u001b[0;34m)\u001b[0m \u001b[0;31m#zelfde fout - hoe roep je een MacOS serial port aan ???\u001b[0m\u001b[0;34m\u001b[0m\u001b[0m\n\u001b[0m",
      "\u001b[0;32m/Applications/anaconda/lib/python3.4/site-packages/PyMata/pymata.py\u001b[0m in \u001b[0;36m__init__\u001b[0;34m(self, port_id, bluetooth, verbose)\u001b[0m\n\u001b[1;32m    125\u001b[0m \u001b[0;34m\u001b[0m\u001b[0m\n\u001b[1;32m    126\u001b[0m             \u001b[0;31m# Instantiate the serial support class\u001b[0m\u001b[0;34m\u001b[0m\u001b[0;34m\u001b[0m\u001b[0m\n\u001b[0;32m--> 127\u001b[0;31m             \u001b[0mself\u001b[0m\u001b[0;34m.\u001b[0m\u001b[0mtransport\u001b[0m \u001b[0;34m=\u001b[0m \u001b[0mPyMataSerial\u001b[0m\u001b[0;34m(\u001b[0m\u001b[0mport_id\u001b[0m\u001b[0;34m,\u001b[0m \u001b[0mself\u001b[0m\u001b[0;34m.\u001b[0m\u001b[0mcommand_deque\u001b[0m\u001b[0;34m)\u001b[0m\u001b[0;34m\u001b[0m\u001b[0m\n\u001b[0m\u001b[1;32m    128\u001b[0m \u001b[0;34m\u001b[0m\u001b[0m\n\u001b[1;32m    129\u001b[0m             \u001b[0;31m# wait for HC-06 Bluetooth slave to initialize in case it is being used.\u001b[0m\u001b[0;34m\u001b[0m\u001b[0;34m\u001b[0m\u001b[0m\n",
      "\u001b[0;32m/Applications/anaconda/lib/python3.4/site-packages/PyMata/pymata_serial.py\u001b[0m in \u001b[0;36m__init__\u001b[0;34m(self, port_id, command_deque)\u001b[0m\n\u001b[1;32m     51\u001b[0m         \u001b[0mself\u001b[0m\u001b[0;34m.\u001b[0m\u001b[0mdaemon\u001b[0m \u001b[0;34m=\u001b[0m \u001b[0;32mTrue\u001b[0m\u001b[0;34m\u001b[0m\u001b[0m\n\u001b[1;32m     52\u001b[0m         self.arduino = serial.Serial(self.port_id, self.baud_rate,\n\u001b[0;32m---> 53\u001b[0;31m                                      timeout=int(self.timeout), writeTimeout=0)\n\u001b[0m\u001b[1;32m     54\u001b[0m \u001b[0;34m\u001b[0m\u001b[0m\n\u001b[1;32m     55\u001b[0m         \u001b[0mself\u001b[0m\u001b[0;34m.\u001b[0m\u001b[0mstop_event\u001b[0m \u001b[0;34m=\u001b[0m \u001b[0mthreading\u001b[0m\u001b[0;34m.\u001b[0m\u001b[0mEvent\u001b[0m\u001b[0;34m(\u001b[0m\u001b[0;34m)\u001b[0m\u001b[0;34m\u001b[0m\u001b[0m\n",
      "\u001b[0;32m/Applications/anaconda/lib/python3.4/site-packages/serial/serialutil.py\u001b[0m in \u001b[0;36m__init__\u001b[0;34m(self, port, baudrate, bytesize, parity, stopbits, timeout, xonxoff, rtscts, write_timeout, dsrdtr, inter_byte_timeout, **kwargs)\u001b[0m\n\u001b[1;32m    178\u001b[0m \u001b[0;34m\u001b[0m\u001b[0m\n\u001b[1;32m    179\u001b[0m         \u001b[0;32mif\u001b[0m \u001b[0mport\u001b[0m \u001b[0;32mis\u001b[0m \u001b[0;32mnot\u001b[0m \u001b[0;32mNone\u001b[0m\u001b[0;34m:\u001b[0m\u001b[0;34m\u001b[0m\u001b[0m\n\u001b[0;32m--> 180\u001b[0;31m             \u001b[0mself\u001b[0m\u001b[0;34m.\u001b[0m\u001b[0mopen\u001b[0m\u001b[0;34m(\u001b[0m\u001b[0;34m)\u001b[0m\u001b[0;34m\u001b[0m\u001b[0m\n\u001b[0m\u001b[1;32m    181\u001b[0m \u001b[0;34m\u001b[0m\u001b[0m\n\u001b[1;32m    182\u001b[0m     \u001b[0;31m#  -  -  -  -  -  -  -  -  -  -  -  -  -  -  -  -  -  -  -  -  -  -  -  -\u001b[0m\u001b[0;34m\u001b[0m\u001b[0;34m\u001b[0m\u001b[0m\n",
      "\u001b[0;32m/Applications/anaconda/lib/python3.4/site-packages/serial/serialposix.py\u001b[0m in \u001b[0;36mopen\u001b[0;34m(self)\u001b[0m\n\u001b[1;32m    292\u001b[0m         \u001b[0;32mexcept\u001b[0m \u001b[0mOSError\u001b[0m \u001b[0;32mas\u001b[0m \u001b[0mmsg\u001b[0m\u001b[0;34m:\u001b[0m\u001b[0;34m\u001b[0m\u001b[0m\n\u001b[1;32m    293\u001b[0m             \u001b[0mself\u001b[0m\u001b[0;34m.\u001b[0m\u001b[0mfd\u001b[0m \u001b[0;34m=\u001b[0m \u001b[0;32mNone\u001b[0m\u001b[0;34m\u001b[0m\u001b[0m\n\u001b[0;32m--> 294\u001b[0;31m             \u001b[0;32mraise\u001b[0m \u001b[0mSerialException\u001b[0m\u001b[0;34m(\u001b[0m\u001b[0mmsg\u001b[0m\u001b[0;34m.\u001b[0m\u001b[0merrno\u001b[0m\u001b[0;34m,\u001b[0m \u001b[0;34m\"could not open port %s: %s\"\u001b[0m \u001b[0;34m%\u001b[0m \u001b[0;34m(\u001b[0m\u001b[0mself\u001b[0m\u001b[0;34m.\u001b[0m\u001b[0m_port\u001b[0m\u001b[0;34m,\u001b[0m \u001b[0mmsg\u001b[0m\u001b[0;34m)\u001b[0m\u001b[0;34m)\u001b[0m\u001b[0;34m\u001b[0m\u001b[0m\n\u001b[0m\u001b[1;32m    295\u001b[0m         \u001b[0;31m#~ fcntl.fcntl(self.fd, fcntl.F_SETFL, 0)  # set blocking\u001b[0m\u001b[0;34m\u001b[0m\u001b[0;34m\u001b[0m\u001b[0m\n\u001b[1;32m    296\u001b[0m \u001b[0;34m\u001b[0m\u001b[0m\n",
      "\u001b[0;31mSerialException\u001b[0m: [Errno 2] could not open port usbmodem1A1221: [Errno 2] No such file or directory: 'usbmodem1A1221'"
     ]
    }
   ],
   "source": [
    "# 2016_0423 1ste opzet om Temperatuur uit te lezen op I2C poort\n",
    "# Grove prototyping\n",
    "\n",
    "import time\n",
    "from PyMata.pymata import PyMata\n",
    "\n",
    "#port = PyMata(\"cu.usbmodem1A1221\") #error FileNotFoundError\n",
    "port = PyMata(\"usbmodem1A1221\") #zelfde fout - hoe roep je een MacOS serial port aan ???\n"
   ]
  },
  {
   "cell_type": "code",
   "execution_count": 2,
   "metadata": {
    "collapsed": true
   },
   "outputs": [],
   "source": [
    "# Tkinter GUI heet in Python v3+ 'tkinter' !\n",
    "# bron: https://wiki.python.org/moin/TkInter\n",
    "import tkinter\n",
    "tkinter._test()"
   ]
  },
  {
   "cell_type": "code",
   "execution_count": 8,
   "metadata": {
    "collapsed": false
   },
   "outputs": [],
   "source": [
    "# first Python GUI program\n",
    "import tkinter\n",
    "\n",
    "#init Main window\n",
    "top = tkinter.Tk()\n",
    "top.title(\"Hello GUI\")\n",
    "top.minsize(200, 30)\n",
    "\n",
    "#label widget\n",
    "helloLabel = tkinter.Label(top, text=\"Hoi Wereld!\")\n",
    "helloLabel.pack()\n",
    "\n",
    "#start and open the window\n",
    "top.mainloop()"
   ]
  },
  {
   "cell_type": "code",
   "execution_count": 16,
   "metadata": {
    "collapsed": false
   },
   "outputs": [],
   "source": [
    "# zet LED op pin 7 aan of uit met een Button widget\n",
    "import tkinter\n",
    "import pyfirmata\n",
    "from time import sleep\n",
    "\n",
    "# port Arduino, ls /dev/cu*\n",
    "port = '/dev/cu.usbmodem1A1221' \n",
    "board = pyfirmata.Arduino(port)\n",
    "sleep(5)\n",
    "ledPin = board.get_pin('d:7:o') #led: pin 7, output\n",
    "\n",
    "#init Main window\n",
    "top = tkinter.Tk()\n",
    "top.title(\"Blink LED using Button\")\n",
    "top.minsize(300, 30)\n",
    "\n",
    "\n",
    "def onStartButtonPress():\n",
    "    startButton.config(state=tkinter.DISABLED)\n",
    "    ledPin.write(1)\n",
    "    sleep(5)\n",
    "    ledPin.write(0)\n",
    "    startButton.config(state=tkinter.NORMAL)\n",
    "\n",
    "\n",
    "#button\n",
    "startButton = tkinter.Button(top, \n",
    "                             text=\"Start\", \n",
    "                             command=onStartButtonPress)\n",
    "startButton.pack()\n",
    "\n",
    "#start and open the window\n",
    "top.mainloop()\n",
    "   \n"
   ]
  },
  {
   "cell_type": "code",
   "execution_count": 21,
   "metadata": {
    "collapsed": false
   },
   "outputs": [],
   "source": [
    "# -*- coding: utf-8 -*-\n",
    "\"\"\"\n",
    "Created on Sat Apr 23 17:20:26 2016\n",
    "GUI: \n",
    "c) scale for brigthness NOTE: <100 geen LED ??? Grove?\n",
    "SOLVED: PWM-pin gebruiken, niet pin 7, maar 3 of 11..\n",
    "b) time delay entry and \n",
    "a) button to set LED on pin 7 ON, and then after delay OFF\n",
    "@author: PePo\n",
    "\"\"\"\n",
    "\n",
    "# zet LED op pin 7 aan of uit met een Button widget\n",
    "import tkinter\n",
    "import pyfirmata\n",
    "from time import sleep\n",
    "\n",
    "# port Arduino, ls /dev/cu*\n",
    "port = '/dev/cu.usbmodem1A1221' # mind the first '/' !!\n",
    "board = pyfirmata.Arduino(port)\n",
    "sleep(5)\n",
    "#ledPin = board.get_pin('d:7:o') #led: pin 7, output digital\n",
    "ledPin = board.get_pin('d:3:p') #led: pin 3, output PWM\n",
    "\n",
    "\n",
    "#init Main window\n",
    "top = tkinter.Tk()\n",
    "top.title(\"Change LED brightness using Scale\")\n",
    "top.minsize(300, 30)\n",
    "\n",
    "#adopted to timePeriodEntry\n",
    "def onStartButtonPress():\n",
    "    # get value from timePeriodEntry\n",
    "    timePeriod = timePeriodEntry.get()\n",
    "    timePeriod = float(timePeriod)\n",
    "    #brihtness\n",
    "    ledBrightness = brightnessScale.get()\n",
    "    ledBrightness = float(ledBrightness)\n",
    "    \n",
    "    startButton.config(state=tkinter.DISABLED)\n",
    "    ledPin.write(ledBrightness/100.0) # ledPin.write(1)\n",
    "    sleep(timePeriod)\n",
    "    ledPin.write(0)\n",
    "    startButton.config(state=tkinter.NORMAL) # tkinter state\n",
    "    \n",
    "#entry for period\n",
    "timePeriodEntry = tkinter.Entry(top,\n",
    "                                bd = 5,\n",
    "                                width = 25) \n",
    "timePeriodEntry.pack()\n",
    "timePeriodEntry.focus_set()\n",
    "\n",
    "#scale for brightness\n",
    "brightnessScale = tkinter.Scale(top,\n",
    "                                from_= 0, \n",
    "                                to = 100,\n",
    "                                orient=tkinter.HORIZONTAL)#.VERTICAL)\n",
    "brightnessScale.pack()\n",
    "\n",
    "#button\n",
    "startButton = tkinter.Button(top, \n",
    "                             text=\"Start\", \n",
    "                             command=onStartButtonPress)\n",
    "startButton.pack()\n",
    "\n",
    "#start and open the window\n",
    "top.mainloop()\n"
   ]
  },
  {
   "cell_type": "code",
   "execution_count": 6,
   "metadata": {
    "collapsed": false
   },
   "outputs": [],
   "source": [
    "#bron http://www.tutorialspoint.com/python/tk_scale.htm\n",
    "from tkinter import *\n",
    "\n",
    "def sel():\n",
    "   selection = \"Value = \" + str(var.get())\n",
    "   label.config(text = selection)\n",
    "\n",
    "def sel2(value):\n",
    "   selection = \"Value = \" + str(value)\n",
    "   label.config(text = selection)\n",
    "\n",
    "    \n",
    "root = Tk()\n",
    "root.title(\"Example Scale\")\n",
    "root.minsize(300, 30)\n",
    "\n",
    "var = DoubleVar()\n",
    "scale = Scale(root,\n",
    "              variable = var,\n",
    "              length=200,\n",
    "              command=sel2,\n",
    "              orient=HORIZONTAL )\n",
    "scale.pack(anchor=CENTER)\n",
    "\n",
    "button = Button(root, text=\"Get Scale Value\", command=sel)\n",
    "button.pack(anchor=CENTER)\n",
    "\n",
    "label = Label(root)\n",
    "label.pack()\n",
    "\n",
    "root.mainloop()"
   ]
  },
  {
   "cell_type": "code",
   "execution_count": null,
   "metadata": {
    "collapsed": true
   },
   "outputs": [],
   "source": []
  }
 ],
 "metadata": {
  "kernelspec": {
   "display_name": "Python 3",
   "language": "python",
   "name": "python3"
  },
  "language_info": {
   "codemirror_mode": {
    "name": "ipython",
    "version": 3
   },
   "file_extension": ".py",
   "mimetype": "text/x-python",
   "name": "python",
   "nbconvert_exporter": "python",
   "pygments_lexer": "ipython3",
   "version": "3.4.4"
  }
 },
 "nbformat": 4,
 "nbformat_minor": 0
}
